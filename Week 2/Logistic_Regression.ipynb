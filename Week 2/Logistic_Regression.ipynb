{
  "cells": [
    {
      "cell_type": "markdown",
      "metadata": {
        "id": "aTAky_OS1w0P"
      },
      "source": [
        "# Logistic Regression\n",
        "\n",
        "Logistic regression is a process of modeling the probability of a discrete outcome given an input variable. The most common logistic regression models a binary outcome; something that can take two values such as true/false, yes/no, and so on.\n",
        "\n",
        "In this week you will be doing logistic regression on breast cancer dataset using sklearn library. Feel free to create any new functions required."
      ]
    },
    {
      "cell_type": "code",
      "execution_count": 1,
      "metadata": {
        "id": "E56ck0_P2NR9"
      },
      "outputs": [],
      "source": [
        "#importing libraries\n",
        "from sklearn.preprocessing import StandardScaler\n",
        "from sklearn.model_selection import train_test_split\n",
        "from sklearn.metrics import accuracy_score\n",
        "from sklearn import datasets\n",
        "import numpy as np"
      ]
    },
    {
      "cell_type": "markdown",
      "metadata": {
        "id": "qojSAol72cmH"
      },
      "source": [
        "Preparing Data"
      ]
    },
    {
      "cell_type": "code",
      "execution_count": 2,
      "metadata": {
        "id": "_uUSV8Xk2ePh"
      },
      "outputs": [],
      "source": [
        "breast_cancer = datasets.load_breast_cancer()\n",
        "X, y = breast_cancer.data, breast_cancer.target"
      ]
    },
    {
      "cell_type": "code",
      "execution_count": 16,
      "metadata": {
        "id": "N6jcbk5g29XW"
      },
      "outputs": [],
      "source": [
        "#spliting data for training and testing\n",
        "X_train, X_test, y_train, y_test = train_test_split(X, y, test_size=0.2, random_state=1234)\n",
        "sc = StandardScaler()\n",
        "X_train = sc.fit_transform(X_train)\n",
        "X_test = sc.transform(X_test)"
      ]
    },
    {
      "cell_type": "markdown",
      "metadata": {
        "id": "R4ldHUJs3d2V"
      },
      "source": [
        "Binary cross entropy loss"
      ]
    },
    {
      "cell_type": "code",
      "execution_count": 17,
      "metadata": {
        "id": "QkXgo04D3dGW"
      },
      "outputs": [],
      "source": [
        "def BCELoss(y,y_pred):\n",
        "  loss = 0\n",
        "  for i in range(len(y)):\n",
        "    y_pred = np.clip(y_pred, 1e-7, 1-1e-7)\n",
        "    loss += (y[i]*np.log(y_pred[i]) + (1-y[i])*np.log(1-y_pred[i]))\n",
        "    loss /= len(y)\n",
        "    return loss"
      ]
    },
    {
      "cell_type": "markdown",
      "metadata": {
        "id": "OIuuOJcJ3sti"
      },
      "source": [
        "Develop a logistic regression model from scratch. Once the model is trained, evaluate its performance by calculating both the accuracy and the cross-entropy loss."
      ]
    },
    {
      "cell_type": "code",
      "execution_count": 21,
      "metadata": {
        "id": "gBJ6H_ss3yUr",
        "colab": {
          "base_uri": "https://localhost:8080/"
        },
        "outputId": "c36d023c-ae85-4342-f1b1-b02b113e0945"
      },
      "outputs": [
        {
          "output_type": "stream",
          "name": "stdout",
          "text": [
            "Accuracy: 93.85964912280701 %\n",
            "Cross Entropy Loss: 0.060049062913583647 %\n"
          ]
        }
      ],
      "source": [
        "def sigmoid(x):\n",
        "  return 1 / (1 + np.exp(-x))\n",
        "\n",
        "class LogisticRegression:\n",
        "    def __init__(self, lr=0.01, iters=1000): #lr (learning rate) & iters (iterations) could be anything of your choice\n",
        "      self.lr = lr\n",
        "      self.iters = iters\n",
        "\n",
        "    def fit(self, X, y):\n",
        "      self.X = X\n",
        "      self.y = y\n",
        "      self.m, self.n = X.shape\n",
        "      self.weights = np.zeros(self.n)\n",
        "      self.bias = 0\n",
        "      for i in range(self.iters):\n",
        "        Z = np.dot(X, self.weights) + self.bias\n",
        "        A = sigmoid(Z)\n",
        "        self.loss = BCELoss(y,A)\n",
        "        dw = (1/self.m)*np.dot(X.T, (A-y))\n",
        "        db = (1/self.m)*np.sum(A-y)\n",
        "        self.weights -= self.lr*dw\n",
        "        self.bias -= self.lr*db\n",
        "      return self\n",
        "\n",
        "    def predict(self, X):\n",
        "      Z = np.dot(X, self.weights) + self.bias\n",
        "      A = sigmoid(Z)\n",
        "      y_pred = np.where(A >= 0.5, 1, 0)\n",
        "      return y_pred\n",
        "\n",
        "model = LogisticRegression(lr=0.01, iters=1000)\n",
        "model.fit(X_train, y_train)\n",
        "y_pred = model.predict(X_test)\n",
        "print(\"Accuracy:\", accuracy_score(y_test, y_pred)*100, \"%\")\n",
        "print(\"Cross Entropy Loss:\" , abs(model.loss)*100, \"%\")"
      ]
    }
  ],
  "metadata": {
    "colab": {
      "provenance": []
    },
    "kernelspec": {
      "display_name": "Python 3",
      "name": "python3"
    },
    "language_info": {
      "name": "python"
    }
  },
  "nbformat": 4,
  "nbformat_minor": 0
}