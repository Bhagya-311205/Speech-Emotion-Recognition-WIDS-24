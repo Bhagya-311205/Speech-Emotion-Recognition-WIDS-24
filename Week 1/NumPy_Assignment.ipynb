{
  "cells": [
    {
      "cell_type": "markdown",
      "metadata": {
        "id": "M0E8Fu2z7XpV"
      },
      "source": [
        "## NumPy Assignment"
      ]
    },
    {
      "cell_type": "markdown",
      "metadata": {
        "id": "u9ts3k5G7XpW"
      },
      "source": [
        "This assignment will introduce you to the NumPy library and demonstrate how vectorization can significantly accelerate computations compared to traditional iterative approaches.\n",
        "\n",
        "You are to only write/modify the code in between consecutive # < START > and # < END > comments. DO NOT modify other parts of the notebook."
      ]
    },
    {
      "cell_type": "markdown",
      "metadata": {
        "id": "k26SFHGz7XpX"
      },
      "source": [
        "**Start by running the below cell, to import the NumPy library.**"
      ]
    },
    {
      "cell_type": "code",
      "execution_count": 2,
      "metadata": {
        "id": "1nADxAY67XpX"
      },
      "outputs": [],
      "source": [
        "import numpy as np"
      ]
    },
    {
      "cell_type": "markdown",
      "metadata": {
        "id": "HTCjsH6Y7XpY"
      },
      "source": [
        "### Initialising arrays\n",
        "NumPy offers multiple methods to create and populate arrays, one of them is using the `np.array()` function.\n",
        "\n",
        "Create the following matrix with the variable arr : $$ \\begin{bmatrix}\n",
        "1 & 2 & 3 \\\\\n",
        "4 & 5 & 6 \\\\\n",
        "7 & 8 & 9\n",
        "\\end{bmatrix} $$"
      ]
    },
    {
      "cell_type": "code",
      "execution_count": 3,
      "metadata": {
        "colab": {
          "base_uri": "https://localhost:8080/"
        },
        "id": "KfiQR7yq7XpZ",
        "outputId": "7f87023b-c693-43a7-8399-1605d197e721"
      },
      "outputs": [
        {
          "output_type": "stream",
          "name": "stdout",
          "text": [
            "[[1 2 3]\n",
            " [4 5 6]\n",
            " [7 8 9]]\n",
            "Shape:  (3, 3)\n"
          ]
        }
      ],
      "source": [
        "# < START >\n",
        "arr = np.array([[1,2,3],[4,5,6],[7,8,9]])\n",
        "# < END >\n",
        "\n",
        "print(arr)\n",
        "print(\"Shape: \", arr.shape)"
      ]
    },
    {
      "cell_type": "markdown",
      "metadata": {
        "id": "mFHk4pu-7XpZ"
      },
      "source": [
        "You can also transpose arrays (same as with matrices), but a more general and commonly used function is the `array.reshape()` function\n",
        "\n",
        "Now create a new array arr_transpose which is transpose of the upper triangular matrix including the diagonal of the above matrix. The upper triangular matrix is the matrix with all elements below the diagonal equal to zero."
      ]
    },
    {
      "cell_type": "code",
      "execution_count": 4,
      "metadata": {
        "colab": {
          "base_uri": "https://localhost:8080/"
        },
        "id": "g7fdoAAY7Xpa",
        "outputId": "d819dc00-4e9d-4ca8-834c-c5312be036a7"
      },
      "outputs": [
        {
          "output_type": "stream",
          "name": "stdout",
          "text": [
            "[[1 0 0]\n",
            " [2 5 0]\n",
            " [3 6 9]]\n",
            "Shape:  (3, 3)\n"
          ]
        }
      ],
      "source": [
        "# < START >\n",
        "arr_transpose = np.array([[1,2,3],[0,5,6],[0,0,9]]).T\n",
        "# < END >\n",
        "\n",
        "print(arr_transpose)\n",
        "print(\"Shape: \", arr_transpose.shape)"
      ]
    },
    {
      "cell_type": "markdown",
      "metadata": {
        "id": "R8GMQj_p7Xpa"
      },
      "source": [
        "`reshape` is commonly used to flatten data stored in multi-dimensional arrays (ex: a 2D array representing a B/W image)\n",
        "\n",
        "Create a new array arr_flat that contains the same elements as arr but has been flattened to a column array\n",
        "\n",
        "`array.flatten()` converts it into a row array"
      ]
    },
    {
      "cell_type": "code",
      "execution_count": 5,
      "metadata": {
        "colab": {
          "base_uri": "https://localhost:8080/"
        },
        "id": "B0EOAGx57Xpa",
        "outputId": "f3fdf69e-9f42-4962-d764-c34bcc99c479"
      },
      "outputs": [
        {
          "output_type": "stream",
          "name": "stdout",
          "text": [
            "[[1]\n",
            " [2]\n",
            " [3]\n",
            " [4]\n",
            " [5]\n",
            " [6]\n",
            " [7]\n",
            " [8]\n",
            " [9]]\n",
            "Shape:  (9, 1)\n"
          ]
        }
      ],
      "source": [
        "# < START >\n",
        "arr_flatten = arr.reshape(-1,1)\n",
        "# < END >\n",
        "\n",
        "print(arr_flatten)\n",
        "print(\"Shape: \", arr_flatten.shape)"
      ]
    },
    {
      "cell_type": "markdown",
      "metadata": {
        "id": "m0Qif7HG7Xpb"
      },
      "source": [
        "A few more basic methods to initialize arrays exist.\n",
        "\n",
        "- Initialize a NumPy array RANDOM_ARR of dimensions $2 \\times 3$ with random values.  Do not use the values of the dimensions directly, instead use the variables provided as arguments. Hint  : `np.random.randn()`"
      ]
    },
    {
      "cell_type": "code",
      "execution_count": 6,
      "metadata": {
        "colab": {
          "base_uri": "https://localhost:8080/"
        },
        "id": "q7Uu5aFv7Xpb",
        "outputId": "01c5f669-72b7-4d7d-d7cf-d7e80867a0c2"
      },
      "outputs": [
        {
          "output_type": "stream",
          "name": "stdout",
          "text": [
            "RANDOM_ARR:  [[-0.46516001  0.2583906   1.25827025]\n",
            " [-2.68231397 -0.4951654   0.37909435]]\n"
          ]
        }
      ],
      "source": [
        "# random array\n",
        "n_rows = 2\n",
        "n_cols = 3\n",
        "\n",
        "# < START >\n",
        "RANDOM_ARR = np.random.randn(n_rows,n_cols)\n",
        "# < END >\n",
        "\n",
        "print(\"RANDOM_ARR: \", RANDOM_ARR)"
      ]
    },
    {
      "cell_type": "markdown",
      "metadata": {
        "id": "lPunXI0K7Xpb"
      },
      "source": [
        "- Create a new array ZERO_ARR of dimensions $2 \\times 1 \\times 2$ whose every element is 0"
      ]
    },
    {
      "cell_type": "code",
      "execution_count": 7,
      "metadata": {
        "colab": {
          "base_uri": "https://localhost:8080/"
        },
        "id": "zHl-NK487Xpb",
        "outputId": "8eb8a869-cbd6-4e40-987a-c072342af41f"
      },
      "outputs": [
        {
          "output_type": "stream",
          "name": "stdout",
          "text": [
            "ZERO_ARR:  [[[0. 0.]]\n",
            "\n",
            " [[0. 0.]]]\n"
          ]
        }
      ],
      "source": [
        "# zeros array\n",
        "# < START >\n",
        "ZERO_ARR = np.zeros((2,1,2))\n",
        "# < END >\n",
        "\n",
        "print(\"ZERO_ARR: \", ZERO_ARR)"
      ]
    },
    {
      "cell_type": "markdown",
      "metadata": {
        "id": "rho6QAbq7Xpb"
      },
      "source": [
        "- Initialize an array ONE_ARR of dimensions $2 \\times 1 \\times 2$ whose every element is 1"
      ]
    },
    {
      "cell_type": "code",
      "execution_count": 8,
      "metadata": {
        "colab": {
          "base_uri": "https://localhost:8080/"
        },
        "id": "vVKRtfA_7Xpb",
        "outputId": "578c8644-462c-40e7-c715-52e91b69b302"
      },
      "outputs": [
        {
          "output_type": "stream",
          "name": "stdout",
          "text": [
            "ONES_ARR:  [[[1. 1.]]\n",
            "\n",
            " [[1. 1.]]]\n"
          ]
        }
      ],
      "source": [
        "# ones array\n",
        "# < START >\n",
        "ONE_ARR = np.ones((2,1,2))\n",
        "# < END >\n",
        "\n",
        "print(\"ONES_ARR: \", ONE_ARR)"
      ]
    },
    {
      "cell_type": "markdown",
      "metadata": {
        "id": "zsm0uEVV7Xpb"
      },
      "source": [
        "### Multiplying two matrices\n",
        "Matrix multiplication is a binary operation that produces a matrix from two matrices. For matrix multiplication, the number of columns in the first matrix must be equal to the number of rows in the second matrix.\n",
        "\n",
        "`np.dot()` is used to compute the dot product of two arrays. It behaves differently for arrays of different dimensions.\n",
        "\n",
        "\n",
        "- Now, initialise two 1-D arrays A_1 and B_1 of size $3$ with random integers (search a function for integer random numbers in NumPy). Multiply the two arrays and store the result in a new array C_1."
      ]
    },
    {
      "cell_type": "code",
      "execution_count": 11,
      "metadata": {
        "colab": {
          "base_uri": "https://localhost:8080/"
        },
        "id": "m-abCYZ-7Xpb",
        "outputId": "b5b40b6c-ea64-48f8-ef40-0654242d55fc"
      },
      "outputs": [
        {
          "output_type": "stream",
          "name": "stdout",
          "text": [
            "A:  [7 9 3]\n",
            "B:  [8 6 3]\n",
            "C:  119\n"
          ]
        }
      ],
      "source": [
        "# < START >\n",
        "A = np.random.randint(0,10, size=3)\n",
        "B = np.random.randint(0,10, size=3)\n",
        "C = np.dot(A,B)\n",
        "# < END >\n",
        "\n",
        "assert A.shape == (3,)\n",
        "assert B.shape == (3,)\n",
        "# The line above is an assert statement, which stops the program execution if the specified condition evaluates to False.\n",
        "# Assert statements are commonly used in neural network programs to verify that the matrices have the correct dimensions.\n",
        "\n",
        "print(\"A: \", A)\n",
        "print(\"B: \", B)\n",
        "print(\"C: \", C)"
      ]
    },
    {
      "cell_type": "markdown",
      "metadata": {
        "id": "E2fBYG567Xpc"
      },
      "source": [
        "- In the next step, initialise two 2-D arrays A_2 and B_2 of dimensions $3 \\times 3$ with random integers. Multiply the two arrays and store the result in a new array C_2."
      ]
    },
    {
      "cell_type": "code",
      "execution_count": 12,
      "metadata": {
        "colab": {
          "base_uri": "https://localhost:8080/"
        },
        "id": "GG-Xa7Ss7Xpc",
        "outputId": "cba37509-ff05-45a7-a9fc-ab462c88087e"
      },
      "outputs": [
        {
          "output_type": "stream",
          "name": "stdout",
          "text": [
            "A:  [[6 2 9]\n",
            " [1 1 5]\n",
            " [2 9 6]]\n",
            "B:  [[5 9 8]\n",
            " [7 5 3]\n",
            " [7 4 7]]\n",
            "C:  [[107 100 117]\n",
            " [ 47  34  46]\n",
            " [115  87  85]]\n"
          ]
        }
      ],
      "source": [
        "# < START >\n",
        "A = np.random.randint(0,10, size=(3,3))\n",
        "B = np.random.randint(0,10, size=(3,3))\n",
        "C = np.dot(A,B)\n",
        "# < END >\n",
        "\n",
        "assert A.shape == (3,3)\n",
        "assert B.shape == (3,3)\n",
        "\n",
        "print(\"A: \", A)\n",
        "print(\"B: \", B)\n",
        "print(\"C: \", C)"
      ]
    },
    {
      "cell_type": "markdown",
      "metadata": {
        "id": "1BfOgiWE7Xpc"
      },
      "source": [
        "- In the last step, initialise two 3-D arrays A_3 and B_3 of dimensions $2 \\times 2 \\times 2$ with random integers. Multiply the two arrays and store the result in a new array C_3."
      ]
    },
    {
      "cell_type": "code",
      "execution_count": 13,
      "metadata": {
        "colab": {
          "base_uri": "https://localhost:8080/"
        },
        "id": "Fzj3idCn7Xpc",
        "outputId": "c801b5f7-6cbe-4a9f-d756-eb2db072ee84"
      },
      "outputs": [
        {
          "output_type": "stream",
          "name": "stdout",
          "text": [
            "A:  [[[1 5]\n",
            "  [9 0]]\n",
            "\n",
            " [[7 4]\n",
            "  [6 7]]]\n",
            "B:  [[[6 1]\n",
            "  [7 9]]\n",
            "\n",
            " [[8 5]\n",
            "  [8 5]]]\n",
            "C:  [[[[ 41  46]\n",
            "   [ 48  30]]\n",
            "\n",
            "  [[ 54   9]\n",
            "   [ 72  45]]]\n",
            "\n",
            "\n",
            " [[[ 70  43]\n",
            "   [ 88  55]]\n",
            "\n",
            "  [[ 85  69]\n",
            "   [104  65]]]]\n"
          ]
        }
      ],
      "source": [
        "# < START >\n",
        "A = np.random.randint(0,10, size=(2,2,2))\n",
        "B = np.random.randint(0,10, size=(2,2,2))\n",
        "C = np.dot(A,B)\n",
        "# < END >\n",
        "\n",
        "assert A.shape == (2,2,2)\n",
        "assert B.shape == (2,2,2)\n",
        "\n",
        "print(\"A: \", A)\n",
        "print(\"B: \", B)\n",
        "print(\"C: \", C)"
      ]
    },
    {
      "cell_type": "markdown",
      "metadata": {
        "id": "V5EWiHHd7Xpc"
      },
      "source": [
        "### Indexing and Slicing\n",
        "Indexing and slicing are fundamental techniques for accessing and manipulating elements of an array. Indexing is used to obtain individual elements, while slicing allows you to obtain a subset of the array.\n",
        "\n",
        "**Indexing** retrieves specific elements of an array. In one-dimensional arrays, you use the index position. For multidimensional arrays, elements can be accessed using either `array[i][j]` or `array[i, j]`, where the latter is preferred. The `array[i, j]` notation is more efficient because it avoids creating a temporary intermediate array when resolving the first index, directly retrieving the desired element. This efficiency extends to higher-dimensional arrays, where elements can be accessed across multiple dimensions, e.g., `array[i, j, k]`.\n",
        "\n",
        "**Slicing** extracts portions of an array using the syntax `array[start:end:step]`.\n",
        "- `start`: Specifies where the slice begins (inclusive)\n",
        "- `end`: Specifies where the slice ends (exclusive)\n",
        "- `step`: Determines the interval between indices\n",
        "\n",
        "By default, `start` is `0`, `end` is the length of the array, and `step` is `1`. Slicing can be applied independently across dimensions in multidimensional arrays, separated by commas (e.g., `array[start:end, start:end]`). Importantly, slicing creates a view of the original array, meaning changes to the slice will reflect in the original array. If indices are out of bounds, slicing returns an empty array instead of raising an error.\n",
        "<br>\n",
        "\n",
        "*Phew! That was a lot of information. Let's put it to practice.*"
      ]
    },
    {
      "cell_type": "markdown",
      "metadata": {
        "id": "MC7K297Q7Xpc"
      },
      "source": [
        "- Initialise an array x with values 1 to 10.\n",
        "    - Create a new array y that contains the first three elements of x.\n",
        "    - Create a new array z that contains the last two elements of x.\n",
        "    - Create a new array w that contains all the elements of x except the first and last element.\n",
        "    - Create a new array v with alternate elements of x starting from the first element."
      ]
    },
    {
      "cell_type": "code",
      "execution_count": 18,
      "metadata": {
        "colab": {
          "base_uri": "https://localhost:8080/"
        },
        "id": "IIZAh3Y27Xpc",
        "outputId": "65829718-7a87-48d2-95d0-6ce750d1648e"
      },
      "outputs": [
        {
          "output_type": "stream",
          "name": "stdout",
          "text": [
            "y:  [1 2 3]\n",
            "z:  [ 9 10]\n",
            "w:  [2 3 4 5 6 7 8 9]\n",
            "v:  [1 3 5 7 9]\n"
          ]
        }
      ],
      "source": [
        "# < START >\n",
        "x = np.arange(1,11)\n",
        "y = np.array(x[:3])\n",
        "z = np.array(x[-2:])\n",
        "w = np.array(x[1:-1])\n",
        "v = np.array(x[::2])\n",
        "# < END >\n",
        "\n",
        "print(\"y: \", y)\n",
        "print(\"z: \", z)\n",
        "print(\"w: \", w)\n",
        "print(\"v: \", v)"
      ]
    },
    {
      "cell_type": "markdown",
      "metadata": {
        "id": "_5feqKuF7Xpd"
      },
      "source": [
        "- Initialise a 2-D array X as follows: $$ \\begin{bmatrix}\n",
        "4 & 5 & 2 \\\\\n",
        "3 & 7 & 9 \\\\\n",
        "1 & 4 & 5 \\\\\n",
        "6 & 6 & 1\n",
        "\\end{bmatrix} $$\n",
        "    - Create a new array Y using X, that is of the form [[4, 5], [1, 4]].\n",
        "    - Create a new array Z using X, that is of the form [[5, 2], [7, 9], [4, 5]].\n"
      ]
    },
    {
      "cell_type": "code",
      "execution_count": 23,
      "metadata": {
        "colab": {
          "base_uri": "https://localhost:8080/"
        },
        "id": "SAJqDu0L7Xpd",
        "outputId": "a93aaf61-dff4-4f9c-c131-feca4377c68d"
      },
      "outputs": [
        {
          "output_type": "stream",
          "name": "stdout",
          "text": [
            "X:  [[4 5 2]\n",
            " [3 7 9]\n",
            " [1 4 5]\n",
            " [6 6 1]]\n",
            "Y:  [[4 5]\n",
            " [1 4]]\n",
            "Z:  [[5 2]\n",
            " [7 9]\n",
            " [4 5]]\n"
          ]
        }
      ],
      "source": [
        "# < START >\n",
        "X = np.array([[4,5,2],[3,7,9],[1,4,5],[6,6,1]])\n",
        "Y = np.array(X[::2,:2])\n",
        "Z = np.array(X[:3,1:])\n",
        "# < END >\n",
        "\n",
        "print(\"X: \", X)\n",
        "print(\"Y: \", Y)\n",
        "print(\"Z: \", Z)"
      ]
    },
    {
      "cell_type": "markdown",
      "metadata": {
        "id": "NCf4925u7Xpd"
      },
      "source": [
        "### Broadcasting\n",
        "Broadcasting is a powerful mechanism that allows NumPy to work with arrays of different shapes when performing arithmetic operations. Frequently, we have a smaller array and a larger array, and we want to use the smaller array multiple times to perform some operation on the larger array.\n",
        "Broadcasting allows this by automatically expanding the smaller array to match the shape of the larger one, making the operation possible without explicitly reshaping the arrays. This feature enhances flexibility in array operations, enabling highly efficient algorithms while minimizing memory usage.\n",
        "\n",
        "It's important to note that broadcasting is distinct from matrix multiplication or padding; it specifically refers to how NumPy handles arrays of different shapes during arithmetic operations."
      ]
    },
    {
      "cell_type": "markdown",
      "metadata": {
        "id": "yqrqMs2b7Xpd"
      },
      "source": [
        "\n",
        "- Initialise an array x with values 1 to 4.\n",
        "    - Create a new array y using x, that is of the form [[1, 2, 3, 4], [1, 2, 3, 4], [1, 2, 3, 4]].\n",
        "    - Create a new array z using x, that is of the form [[1, 1, 1, 1], [2, 2, 2, 2], [3, 3, 3, 3], [4, 4, 4, 4]].\n",
        "    - Implement broadcasting to add the arrays x and z and store the result in a new array w."
      ]
    },
    {
      "cell_type": "code",
      "execution_count": 37,
      "metadata": {
        "colab": {
          "base_uri": "https://localhost:8080/"
        },
        "id": "lRrKsQHb7Xpe",
        "outputId": "f58db613-9c1a-43cd-d303-baef3dc850d8"
      },
      "outputs": [
        {
          "output_type": "stream",
          "name": "stdout",
          "text": [
            "x:  [1 2 3 4]\n",
            "y:  [[1 2 3 4]\n",
            " [1 2 3 4]\n",
            " [1 2 3 4]]\n",
            "z:  [[1 1 1 1]\n",
            " [2 2 2 2]\n",
            " [3 3 3 3]\n",
            " [4 4 4 4]]\n",
            "w:  [[2 3 4 5]\n",
            " [3 4 5 6]\n",
            " [4 5 6 7]\n",
            " [5 6 7 8]]\n"
          ]
        }
      ],
      "source": [
        "# < START >\n",
        "x = np.arange(1,5)\n",
        "y = np.array([x, x, x])\n",
        "z = np.array([[x[0]], [x[1]], [x[2]], [x[3]]]) * np.ones((1,4), dtype=int)\n",
        "w = x + z\n",
        "# < END >\n",
        "\n",
        "print(\"x: \", x)\n",
        "print(\"y: \", y)\n",
        "print(\"z: \", z)\n",
        "print(\"w: \", w)"
      ]
    },
    {
      "cell_type": "markdown",
      "metadata": {
        "id": "nPwoOHEP7Xpe"
      },
      "source": [
        "- Initialise a 2-D array X as follows: $$ \\begin{bmatrix}\n",
        "1 & 2 & 3 \\\\\n",
        "4 & 5 & 6 \\\\\n",
        "7 & 8 & 9 \\\\\n",
        "10 & 11 & 12\n",
        "\\end{bmatrix} $$\n",
        "    - Create a new array Y using X, that is of the form [[1, 2, 3], [1, 2, 3], [1, 2, 3], [1, 2, 3]].\n",
        "    - Create a new array Z using X, that is of the form [[1, 1, 1], [2, 2, 2], [3, 3, 3], [4, 4, 4]].\n",
        "    - Multiply each element of the first row of X by 4 and each element of the second row of X by 5. Store the result in a new array W. Hint : Make an array of the form [4, 5] and use broadcasting."
      ]
    },
    {
      "cell_type": "code",
      "execution_count": 17,
      "metadata": {
        "colab": {
          "base_uri": "https://localhost:8080/"
        },
        "id": "7Z8pLalt7Xpe",
        "outputId": "48990641-850a-4417-d345-9ff9c08d9cac"
      },
      "outputs": [
        {
          "output_type": "stream",
          "name": "stdout",
          "text": [
            "X:  [[ 1  2  3]\n",
            " [ 4  5  6]\n",
            " [ 7  8  9]\n",
            " [10 11 12]]\n",
            "Y:  [[1 2 3]\n",
            " [1 2 3]\n",
            " [1 2 3]\n",
            " [1 2 3]]\n",
            "Z:  [[1 1 1]\n",
            " [2 2 2]\n",
            " [3 3 3]\n",
            " [4 4 4]]\n",
            "W:  [[ 4  8 12]\n",
            " [20 25 30]\n",
            " [ 7  8  9]\n",
            " [10 11 12]]\n"
          ]
        }
      ],
      "source": [
        "# < START >\n",
        "X = np.array([[1,2,3],[4,5,6],[7,8,9],[10,11,12]])\n",
        "Y = np.array([X[0],X[0],X[0],X[0]])\n",
        "Z = np.array([[X[0,0]],[X[0,1]],[X[0,2]],[X[1,0]]]) * np.ones((1,3), dtype=int)\n",
        "W = X * np.array([[4],[5],[1],[1]])\n",
        "# < END >\n",
        "\n",
        "print(\"X: \", X)\n",
        "print(\"Y: \", Y)\n",
        "print(\"Z: \", Z)\n",
        "print(\"W: \", W)"
      ]
    },
    {
      "cell_type": "markdown",
      "metadata": {
        "id": "BNtgPrlU7Xpe"
      },
      "source": [
        "### Vectorization\n",
        "Vectorization is the process of transforming an algorithm to operate on a set of values (a vector) simultaneously, rather than processing each value individually. This eliminates the need for explicit loops, leading to more concise, readable, and efficient code. Vectorized code is typically faster than non-vectorized code because it leverages optimized, low-level implementations in C.\n",
        "\n",
        "To highlight the benefits of vectorization, let's compare the execution times of a non-vectorized approach with a vectorized one, where the task is to multiply each element of a 2D array by 3.\n",
        "\n",
        "- Create a 2-D array `arr_nonvectorised` of dimensions $1000 \\times 1000$ with random integers. Multiply each element of the array by 3 using a non-vectorized approach and store the result in a new array Y. Calculate the time taken to perform this operation.\n",
        "- Create a copy of the original array `arr_nonvectorised` and store it in a new array `arr_vectorised`. Multiply each element of the array by 3 using a vectorized approach and store the result in a new array Z. Calculate the time taken to perform this operation.\n",
        "\n",
        "And u can see the difference in time taken by both the approaches."
      ]
    },
    {
      "cell_type": "code",
      "execution_count": 28,
      "metadata": {
        "colab": {
          "base_uri": "https://localhost:8080/"
        },
        "id": "8TKyrMXn7Xpf",
        "outputId": "d1856da0-d031-4c9f-f7c0-44986bc80509"
      },
      "outputs": [
        {
          "output_type": "stream",
          "name": "stdout",
          "text": [
            "Time taken in non-vectorized approach: 535.1324081420898 ms\n",
            "Time taken in vectorized approach: 4.280805587768555 ms\n",
            "Non-vectorized array:  [[2796 2931  294 ...  255 1698 1533]\n",
            " [1473  522 2922 ... 2769 2538 2718]\n",
            " [ 891 2793 2085 ... 1998  147 2163]\n",
            " ...\n",
            " [1869 1809 1131 ... 1563  702 2400]\n",
            " [1983 2490 1479 ... 2526  870  159]\n",
            " [1884  537 1860 ... 1017 1062 2526]]\n",
            "Vectorized array:  [[2796 2931  294 ...  255 1698 1533]\n",
            " [1473  522 2922 ... 2769 2538 2718]\n",
            " [ 891 2793 2085 ... 1998  147 2163]\n",
            " ...\n",
            " [1869 1809 1131 ... 1563  702 2400]\n",
            " [1983 2490 1479 ... 2526  870  159]\n",
            " [1884  537 1860 ... 1017 1062 2526]]\n"
          ]
        }
      ],
      "source": [
        "import time\n",
        "\n",
        "# Initialise both the aarays\n",
        "# < START >\n",
        "arr_nonvectorised = np.random.randint(0,1000, size=(1000,1000))\n",
        "arr_vectorised = np.copy(arr_nonvectorised)\n",
        "# < END >\n",
        "\n",
        "start_nv = time.time()\n",
        "\n",
        "# Non-vectorized approach\n",
        "# < START >\n",
        "Y = np.zeros_like(arr_nonvectorised)\n",
        "for i in range(arr_nonvectorised.shape[0]):\n",
        "    for j in range(arr_nonvectorised.shape[1]):\n",
        "        Y[i,j] = arr_nonvectorised[i,j]*3\n",
        "# < END >\n",
        "\n",
        "end_nv = time.time()\n",
        "\n",
        "print(\"Time taken in non-vectorized approach:\", 1000*(end_nv-start_nv), \"ms\")\n",
        "\n",
        "\n",
        "start_v = time.time()\n",
        "\n",
        "# Vectorized approach\n",
        "# < START >\n",
        "Z = arr_vectorised*3\n",
        "# < END >\n",
        "\n",
        "end_v = time.time()\n",
        "\n",
        "print(\"Time taken in vectorized approach:\", 1000*(end_v-start_v), \"ms\")\n",
        "\n",
        "\n",
        "# Uncomment and run the following line to verify that both approaches are achieving the same result.\n",
        "print(\"Non-vectorized array: \", Y)\n",
        "print(\"Vectorized array: \", Z)"
      ]
    },
    {
      "cell_type": "markdown",
      "metadata": {
        "id": "ZBJqynIi7Xpf"
      },
      "source": [
        "Experimenting with array dimensions reveals that the execution times for smaller arrays may not differ significantly. However, in the context of neural networks, where we often work with large datasets, the importance of vectorization becomes clear. Vectorization optimizes performance by leveraging efficient array operations, making it crucial for handling the computational demands of large-scale data processing."
      ]
    },
    {
      "cell_type": "markdown",
      "metadata": {
        "id": "7Af8g27W7Xpf"
      },
      "source": [
        "Congratulations on completing this assignment!🥳 You can now move on to the next one."
      ]
    }
  ],
  "metadata": {
    "language_info": {
      "name": "python"
    },
    "colab": {
      "provenance": []
    },
    "kernelspec": {
      "name": "python3",
      "display_name": "Python 3"
    }
  },
  "nbformat": 4,
  "nbformat_minor": 0
}